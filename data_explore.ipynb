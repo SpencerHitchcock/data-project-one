{
 "cells": [
  {
   "cell_type": "code",
   "execution_count": 1,
   "metadata": {
    "scrolled": true
   },
   "outputs": [
    {
     "data": {
      "text/html": [
       "<div>\n",
       "<style scoped>\n",
       "    .dataframe tbody tr th:only-of-type {\n",
       "        vertical-align: middle;\n",
       "    }\n",
       "\n",
       "    .dataframe tbody tr th {\n",
       "        vertical-align: top;\n",
       "    }\n",
       "\n",
       "    .dataframe thead th {\n",
       "        text-align: right;\n",
       "    }\n",
       "</style>\n",
       "<table border=\"1\" class=\"dataframe\">\n",
       "  <thead>\n",
       "    <tr style=\"text-align: right;\">\n",
       "      <th></th>\n",
       "      <th>title</th>\n",
       "      <th>points</th>\n",
       "      <th>price</th>\n",
       "      <th>country</th>\n",
       "      <th>province</th>\n",
       "      <th>region_1</th>\n",
       "      <th>region_2</th>\n",
       "      <th>variety</th>\n",
       "      <th>winery</th>\n",
       "      <th>description</th>\n",
       "    </tr>\n",
       "  </thead>\n",
       "  <tbody>\n",
       "    <tr>\n",
       "      <th>0</th>\n",
       "      <td>Nicosia 2013 Vulkà Bianco  (Etna)</td>\n",
       "      <td>87</td>\n",
       "      <td>NaN</td>\n",
       "      <td>Italy</td>\n",
       "      <td>Sicily &amp; Sardinia</td>\n",
       "      <td>Etna</td>\n",
       "      <td>NaN</td>\n",
       "      <td>White Blend</td>\n",
       "      <td>Nicosia</td>\n",
       "      <td>Aromas include tropical fruit, broom, brimston...</td>\n",
       "    </tr>\n",
       "    <tr>\n",
       "      <th>1</th>\n",
       "      <td>Quinta dos Avidagos 2011 Avidagos Red (Douro)</td>\n",
       "      <td>87</td>\n",
       "      <td>15.0</td>\n",
       "      <td>Portugal</td>\n",
       "      <td>Douro</td>\n",
       "      <td>NaN</td>\n",
       "      <td>NaN</td>\n",
       "      <td>Portuguese Red</td>\n",
       "      <td>Quinta dos Avidagos</td>\n",
       "      <td>This is ripe and fruity, a wine that is smooth...</td>\n",
       "    </tr>\n",
       "    <tr>\n",
       "      <th>2</th>\n",
       "      <td>Rainstorm 2013 Pinot Gris (Willamette Valley)</td>\n",
       "      <td>87</td>\n",
       "      <td>14.0</td>\n",
       "      <td>US</td>\n",
       "      <td>Oregon</td>\n",
       "      <td>Willamette Valley</td>\n",
       "      <td>Willamette Valley</td>\n",
       "      <td>Pinot Gris</td>\n",
       "      <td>Rainstorm</td>\n",
       "      <td>Tart and snappy, the flavors of lime flesh and...</td>\n",
       "    </tr>\n",
       "    <tr>\n",
       "      <th>3</th>\n",
       "      <td>St. Julian 2013 Reserve Late Harvest Riesling ...</td>\n",
       "      <td>87</td>\n",
       "      <td>13.0</td>\n",
       "      <td>US</td>\n",
       "      <td>Michigan</td>\n",
       "      <td>Lake Michigan Shore</td>\n",
       "      <td>NaN</td>\n",
       "      <td>Riesling</td>\n",
       "      <td>St. Julian</td>\n",
       "      <td>Pineapple rind, lemon pith and orange blossom ...</td>\n",
       "    </tr>\n",
       "    <tr>\n",
       "      <th>4</th>\n",
       "      <td>Sweet Cheeks 2012 Vintner's Reserve Wild Child...</td>\n",
       "      <td>87</td>\n",
       "      <td>65.0</td>\n",
       "      <td>US</td>\n",
       "      <td>Oregon</td>\n",
       "      <td>Willamette Valley</td>\n",
       "      <td>Willamette Valley</td>\n",
       "      <td>Pinot Noir</td>\n",
       "      <td>Sweet Cheeks</td>\n",
       "      <td>Much like the regular bottling from 2012, this...</td>\n",
       "    </tr>\n",
       "  </tbody>\n",
       "</table>\n",
       "</div>"
      ],
      "text/plain": [
       "                                               title  points  price   country  \\\n",
       "0                  Nicosia 2013 Vulkà Bianco  (Etna)      87    NaN     Italy   \n",
       "1      Quinta dos Avidagos 2011 Avidagos Red (Douro)      87   15.0  Portugal   \n",
       "2      Rainstorm 2013 Pinot Gris (Willamette Valley)      87   14.0        US   \n",
       "3  St. Julian 2013 Reserve Late Harvest Riesling ...      87   13.0        US   \n",
       "4  Sweet Cheeks 2012 Vintner's Reserve Wild Child...      87   65.0        US   \n",
       "\n",
       "            province             region_1           region_2         variety  \\\n",
       "0  Sicily & Sardinia                 Etna                NaN     White Blend   \n",
       "1              Douro                  NaN                NaN  Portuguese Red   \n",
       "2             Oregon    Willamette Valley  Willamette Valley      Pinot Gris   \n",
       "3           Michigan  Lake Michigan Shore                NaN        Riesling   \n",
       "4             Oregon    Willamette Valley  Willamette Valley      Pinot Noir   \n",
       "\n",
       "                winery                                        description  \n",
       "0              Nicosia  Aromas include tropical fruit, broom, brimston...  \n",
       "1  Quinta dos Avidagos  This is ripe and fruity, a wine that is smooth...  \n",
       "2            Rainstorm  Tart and snappy, the flavors of lime flesh and...  \n",
       "3           St. Julian  Pineapple rind, lemon pith and orange blossom ...  \n",
       "4         Sweet Cheeks  Much like the regular bottling from 2012, this...  "
      ]
     },
     "execution_count": 1,
     "metadata": {},
     "output_type": "execute_result"
    }
   ],
   "source": [
    "#data\n",
    "import pandas as pd\n",
    "%matplotlib inline\n",
    "from matplotlib import pyplot as plt\n",
    "import numpy as np\n",
    "import scipy.stats as stats\n",
    "\n",
    "raw_wine_data = \"wine_raw_data.csv\"\n",
    "raw_wine_data_df = pd.read_csv(raw_wine_data)\n",
    "reduced_wine_df = raw_wine_data_df.loc[:, [\"title\", \"points\", \"price\", \"country\", \"province\", \"region_1\", \"region_2\", \"variety\", \"winery\", \"description\"]]\n",
    "reduced_wine_df = reduced_wine_df.rename(index=str, columns={'country' : 'Country', \"points\": 'Points'})\n",
    "reduced_wine_df.head()\n",
    "\n"
   ]
  },
  {
   "cell_type": "code",
   "execution_count": 2,
   "metadata": {},
   "outputs": [],
   "source": [
    "# data frames for our specific data\n",
    "pinot_noir = reduced_wine_df.loc[reduced_wine_df[\"variety\"] == \"Pinot Noir\"]\n",
    "chardonnay = reduced_wine_df.loc[reduced_wine_df[\"variety\"] == \"Chardonnay\"]\n",
    "cabernet = reduced_wine_df.loc[reduced_wine_df[\"variety\"] == \"Cabernet Sauvignon\"]\n",
    "red_blend = reduced_wine_df.loc[reduced_wine_df[\"variety\"] == \"Red Blend\"]\n",
    "\n",
    "# data frame with price points\n",
    "price_df = reduced_wine_df.loc[(reduced_wine_df[\"price\"] > 0)]\n"
   ]
  },
  {
   "cell_type": "code",
   "execution_count": 3,
   "metadata": {},
   "outputs": [
    {
     "data": {
      "text/plain": [
       "F_onewayResult(statistic=312.67809989095554, pvalue=7.251864807709925e-201)"
      ]
     },
     "execution_count": 3,
     "metadata": {},
     "output_type": "execute_result"
    }
   ],
   "source": [
    "#ttest\n",
    "p1 = reduced_wine_df.loc[reduced_wine_df[\"variety\"] == \"Pinot Noir\"][\"points\"]\n",
    "ch1 = reduced_wine_df.loc[reduced_wine_df[\"variety\"] == \"Chardonnay\"][\"points\"]\n",
    "ca1 = reduced_wine_df.loc[reduced_wine_df[\"variety\"] == \"Cabernet Sauvignon\"][\"points\"]\n",
    "red1 = reduced_wine_df.loc[reduced_wine_df[\"variety\"] == \"Red Blend\"][\"points\"]\n",
    "stats.f_oneway(p1, ch1, ca1, red1)"
   ]
  },
  {
   "cell_type": "code",
   "execution_count": null,
   "metadata": {},
   "outputs": [],
   "source": [
    "\n"
   ]
  },
  {
   "cell_type": "code",
   "execution_count": null,
   "metadata": {},
   "outputs": [],
   "source": []
  },
  {
   "cell_type": "code",
   "execution_count": null,
   "metadata": {},
   "outputs": [],
   "source": [
    "#reduced_wine_df.boxplot(\"points\", by=\"variety\", figsize=(20, 10))\n"
   ]
  }
 ],
 "metadata": {
  "kernelspec": {
   "display_name": "Python 3",
   "language": "python",
   "name": "python3"
  },
  "language_info": {
   "codemirror_mode": {
    "name": "ipython",
    "version": 3
   },
   "file_extension": ".py",
   "mimetype": "text/x-python",
   "name": "python",
   "nbconvert_exporter": "python",
   "pygments_lexer": "ipython3",
   "version": "3.7.0"
  }
 },
 "nbformat": 4,
 "nbformat_minor": 2
}
