{
 "cells": [
  {
   "cell_type": "code",
   "execution_count": 1,
   "metadata": {},
   "outputs": [],
   "source": [
    "import pandas as pd "
   ]
  },
  {
   "cell_type": "code",
   "execution_count": 9,
   "metadata": {},
   "outputs": [
    {
     "data": {
      "text/plain": [
       "variety\n",
       "Abouriou                     3\n",
       "Agiorgitiko                 63\n",
       "Aglianico                  359\n",
       "Aidani                       1\n",
       "Airen                        3\n",
       "Albana                      23\n",
       "Albanello                    1\n",
       "Albariño                   477\n",
       "Albarossa                    2\n",
       "Aleatico                     5\n",
       "Alfrocheiro                 16\n",
       "Alicante                     5\n",
       "Alicante Bouschet           50\n",
       "Aligoté                     30\n",
       "Alsace white blend          51\n",
       "Altesse                      8\n",
       "Alvarelhão                   2\n",
       "Alvarinho                  137\n",
       "Alvarinho-Chardonnay         5\n",
       "Ansonica                     2\n",
       "Antão Vaz                   17\n",
       "Apple                        2\n",
       "Aragonez                    10\n",
       "Aragonês                    10\n",
       "Argaman                      3\n",
       "Arinto                      77\n",
       "Arneis                      86\n",
       "Asprinio                     3\n",
       "Assyrtico                   43\n",
       "Assyrtiko                   17\n",
       "                          ... \n",
       "Viognier-Marsanne            3\n",
       "Viognier-Roussanne           7\n",
       "Viognier-Valdiguié           1\n",
       "Viosinho                     5\n",
       "Vital                        1\n",
       "Vitovska                     3\n",
       "Viura                      107\n",
       "Viura-Chardonnay            13\n",
       "Viura-Verdejo                2\n",
       "Vranac                       0\n",
       "Vranec                       4\n",
       "Weissburgunder              47\n",
       "Welschriesling              25\n",
       "White Blend               2354\n",
       "White Port                   2\n",
       "White Riesling              13\n",
       "Xarel-lo                    21\n",
       "Xinisteri                    1\n",
       "Xinomavro                   33\n",
       "Xynisteri                    2\n",
       "Yapincak                     2\n",
       "Zelen                        1\n",
       "Zibibbo                     31\n",
       "Zierfandler                 16\n",
       "Zierfandler-Rotgipfler       5\n",
       "Zinfandel                 2714\n",
       "Zlahtina                     2\n",
       "Zweigelt                   209\n",
       "Çalkarası                    2\n",
       "Žilavka                      1\n",
       "Name: country, Length: 707, dtype: int64"
      ]
     },
     "execution_count": 9,
     "metadata": {},
     "output_type": "execute_result"
    }
   ],
   "source": [
    "wine_csv=\"wine_raw_data.csv\"\n",
    "wine_df=pd.read_csv(wine_csv,)\n",
    "wine_gb=wine_df.groupby(\"variety\")\n",
    "wine_gb\n",
    "wine_gb[\"country\"].count()"
   ]
  },
  {
   "cell_type": "code",
   "execution_count": 14,
   "metadata": {},
   "outputs": [
    {
     "data": {
      "text/plain": [
       "country\n",
       "Argentina                  3800\n",
       "Armenia                       2\n",
       "Australia                  2329\n",
       "Austria                    3345\n",
       "Bosnia and Herzegovina        2\n",
       "Brazil                       52\n",
       "Bulgaria                    141\n",
       "Canada                      257\n",
       "Chile                      4471\n",
       "China                         1\n",
       "Croatia                      73\n",
       "Cyprus                       11\n",
       "Czech Republic               12\n",
       "Egypt                         1\n",
       "England                      74\n",
       "France                    22093\n",
       "Georgia                      86\n",
       "Germany                    2165\n",
       "Greece                      466\n",
       "Hungary                     146\n",
       "India                         9\n",
       "Israel                      505\n",
       "Italy                     19540\n",
       "Lebanon                      35\n",
       "Luxembourg                    6\n",
       "Macedonia                    12\n",
       "Mexico                       70\n",
       "Moldova                      59\n",
       "Morocco                      28\n",
       "New Zealand                1419\n",
       "Peru                         16\n",
       "Portugal                   5691\n",
       "Romania                     120\n",
       "Serbia                       12\n",
       "Slovakia                      1\n",
       "Slovenia                     87\n",
       "South Africa               1401\n",
       "Spain                      6645\n",
       "Switzerland                   7\n",
       "Turkey                       90\n",
       "US                        54504\n",
       "Ukraine                      14\n",
       "Uruguay                     109\n",
       "Name: variety, dtype: int64"
      ]
     },
     "execution_count": 14,
     "metadata": {},
     "output_type": "execute_result"
    }
   ],
   "source": [
    "wine_country=wine_df.groupby(\"country\")\n",
    "wine_country[\"variety\"].count()"
   ]
  },
  {
   "cell_type": "code",
   "execution_count": 23,
   "metadata": {},
   "outputs": [
    {
     "ename": "TypeError",
     "evalue": "string indices must be integers",
     "output_type": "error",
     "traceback": [
      "\u001b[0;31m---------------------------------------------------------------------------\u001b[0m",
      "\u001b[0;31mTypeError\u001b[0m                                 Traceback (most recent call last)",
      "\u001b[0;32m<ipython-input-23-5bca281c9966>\u001b[0m in \u001b[0;36m<module>\u001b[0;34m()\u001b[0m\n\u001b[1;32m      1\u001b[0m \u001b[0;32mfor\u001b[0m \u001b[0mwine\u001b[0m \u001b[0;32min\u001b[0m \u001b[0mwine_df\u001b[0m\u001b[0;34m:\u001b[0m\u001b[0;34m\u001b[0m\u001b[0m\n\u001b[0;32m----> 2\u001b[0;31m     \u001b[0mprint\u001b[0m\u001b[0;34m(\u001b[0m\u001b[0mwine\u001b[0m\u001b[0;34m[\u001b[0m\u001b[0;34m[\u001b[0m\u001b[0;34m'title'\u001b[0m\u001b[0;34m]\u001b[0m\u001b[0;34m]\u001b[0m\u001b[0;34m)\u001b[0m\u001b[0;34m\u001b[0m\u001b[0m\n\u001b[0m\u001b[1;32m      3\u001b[0m \u001b[0mnext\u001b[0m\u001b[0;34m\u001b[0m\u001b[0m\n",
      "\u001b[0;31mTypeError\u001b[0m: string indices must be integers"
     ]
    }
   ],
   "source": [
    "for wine in wine_df:\n",
    "    print(wine[['title']])\n",
    "next\n"
   ]
  }
 ],
 "metadata": {
  "kernelspec": {
   "display_name": "Python 3",
   "language": "python",
   "name": "python3"
  },
  "language_info": {
   "codemirror_mode": {
    "name": "ipython",
    "version": 3
   },
   "file_extension": ".py",
   "mimetype": "text/x-python",
   "name": "python",
   "nbconvert_exporter": "python",
   "pygments_lexer": "ipython3",
   "version": "3.7.0"
  }
 },
 "nbformat": 4,
 "nbformat_minor": 2
}
